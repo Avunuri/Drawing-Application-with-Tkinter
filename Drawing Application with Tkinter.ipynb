{
 "cells": [
  {
   "cell_type": "code",
   "execution_count": 1,
   "id": "e025fdec",
   "metadata": {},
   "outputs": [],
   "source": [
    "from tkinter import *"
   ]
  },
  {
   "cell_type": "code",
   "execution_count": 2,
   "id": "358ef62d",
   "metadata": {},
   "outputs": [],
   "source": [
    "drawing = None\n",
    "\n",
    "def first_point(e):\n",
    "    pressflag.set(True)\n",
    "    x1.set(e.x)\n",
    "    y1.set(e.y)\n",
    "    x2.set(e.x)\n",
    "    y2.set(e.y)\n",
    "    draw_shape()\n",
    "\n",
    "\n",
    "def dragging(e):\n",
    "    if pressflag.get() == True:\n",
    "        can1.coords(drawing, x1.get(), y1.get(), e.x, e.y)\n",
    "\n",
    "\n",
    "def second_point(e):\n",
    "    can1.coords(drawing, x1.get(), y1.get(), e.x, e.y)\n",
    "    pressflag.set(False)\n",
    "\n",
    "\n",
    "def draw_shape():\n",
    "    global drawing\n",
    "    funs = [can1.create_line, can1.create_rectangle, can1.create_oval]\n",
    "    if shape_var.get() == 0:\n",
    "        drawing = funs[shape_var.get()](x1.get(), y1.get(), x2.get(), y2.get(), fill=color_var.get(), width=width_var.get())\n",
    "    else:\n",
    "        drawing = funs[shape_var.get()](x1.get(), y1.get(), x2.get(), y2.get(), outline=color_var.get(), width=width_var.get())"
   ]
  },
  {
   "cell_type": "code",
   "execution_count": 3,
   "id": "851bb2fe",
   "metadata": {},
   "outputs": [],
   "source": [
    "win = Tk()\n",
    "win.geometry('600x400')\n",
    "\n",
    "can1 = Canvas(win, bg='#ffffbb')\n",
    "can1.pack(fill=BOTH, expand=True)\n",
    "\n",
    "can1.bind('<ButtonPress>', first_point)\n",
    "can1.bind('<ButtonRelease>', second_point)\n",
    "can1.bind('<Motion>', dragging)\n",
    "\n",
    "shape_var = IntVar(value=0)\n",
    "color_var = StringVar(value='red')\n",
    "width_var = IntVar(value=3)\n",
    "\n",
    "x1 = IntVar(value=0)\n",
    "y1 = IntVar(value=0)\n",
    "x2 = IntVar(value=0)\n",
    "y2 = IntVar(value=0)\n",
    "pressflag = BooleanVar(value=False)\n"
   ]
  },
  {
   "cell_type": "code",
   "execution_count": 4,
   "id": "487a5b00",
   "metadata": {},
   "outputs": [],
   "source": [
    "menubar = Menu(win)\n",
    "\n",
    "shape_menu = Menu(menubar)\n",
    "shape_menu.add_radiobutton(label='Line', variable=shape_var, value=0)\n",
    "shape_menu.add_radiobutton(label='Rectangle', variable=shape_var, value=1)\n",
    "shape_menu.add_radiobutton(label='Oval', variable=shape_var, value=2)\n",
    "menubar.add_cascade(label='Shapes', menu=shape_menu)\n",
    "\n",
    "color_menu = Menu(menubar)\n",
    "color_menu.add_radiobutton(label='Red', variable=color_var, value='red')\n",
    "color_menu.add_radiobutton(label='Green', variable=color_var, value='green')\n",
    "color_menu.add_radiobutton(label='Blue', variable=color_var, value='blue')\n",
    "menubar.add_cascade(label='Colors', menu=color_menu)\n",
    "\n",
    "width_menu = Menu(menubar)\n",
    "width_menu.add_radiobutton(label='1', variable=width_var, value=1)\n",
    "width_menu.add_radiobutton(label='3', variable=width_var, value=3)\n",
    "width_menu.add_radiobutton(label='5', variable=width_var, value=5)\n",
    "menubar.add_cascade(label='Thickness', menu=width_menu)"
   ]
  },
  {
   "cell_type": "code",
   "execution_count": 5,
   "id": "a05f4387",
   "metadata": {},
   "outputs": [],
   "source": [
    "win['menu'] = menubar\n",
    "\n",
    "win.mainloop()"
   ]
  },
  {
   "cell_type": "code",
   "execution_count": null,
   "id": "25a97453",
   "metadata": {},
   "outputs": [],
   "source": []
  }
 ],
 "metadata": {
  "kernelspec": {
   "display_name": "Python 3 (ipykernel)",
   "language": "python",
   "name": "python3"
  },
  "language_info": {
   "codemirror_mode": {
    "name": "ipython",
    "version": 3
   },
   "file_extension": ".py",
   "mimetype": "text/x-python",
   "name": "python",
   "nbconvert_exporter": "python",
   "pygments_lexer": "ipython3",
   "version": "3.10.9"
  }
 },
 "nbformat": 4,
 "nbformat_minor": 5
}
